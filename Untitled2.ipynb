{
 "cells": [
  {
   "cell_type": "code",
   "execution_count": 1,
   "metadata": {},
   "outputs": [
    {
     "name": "stdout",
     "output_type": "stream",
     "text": [
      "I totally cheered her on and still want her on the throne. #GameofThones #khaleesi\n",
      "RT @cilekli_kopek: The 3 survivors left at Kings Landing next episode...\n",
      "#Khaleesi #GameofThrones #kingslanding #season8episode5 https://t.…\n",
      "@GraceRandolph @sesskasays \n",
      "@TheReelRejects \n",
      "@The_Normies \n",
      "@NikkiSteveReact \n",
      "@imon_Snow\n",
      "@Rachel__Nichols… https://t.co/7exRtPLETT\n",
      "RT @AhmedMufti5: My theory of game of thrones ending. It's about littlefinger.\n",
      "#littlefinger #GameofThrones #PetyrBaelish #GamefThrones #Sa…\n",
      "Skip the coffee. Relax after a grueling day with #Dracarys Herbal Tea.\n",
      "&gt;&gt; https://t.co/cidRjQfrct | All kinds of ap… https://t.co/Ta8gHmeWrM\n",
      "And that’s exactly what I expected #Khaleesi to do. If she could. And she did.  It cost her 2 dragons. She saved th… https://t.co/PIPotoczjh\n",
      "To the hundreds of people who named their daughters Khaleesi, how do you feel now? #GoT #khaleesi\n",
      "#womanup (#Khaleesi pls go torch that stupid Alabama law, k thanks) https://t.co/rKaF4AEVmg\n",
      "RT @GuilloMena: I bet all those people who named their kid #Khaleesi regret it now #GOT #GameofThrones ⁦@GameOfThrones⁩ https://t.co/TFMRv2…\n",
      "You'll forever be my queen &lt;3\n",
      "\n",
      "#Khaleesi\n"
     ]
    }
   ],
   "source": [
    "import tweepy as tw\n",
    "import pandas as pd\n",
    "import requests\n",
    "import json\n",
    "# The consumer keys can be found on your application's Details\n",
    "# page located at https://dev.twitter.com/apps (under \"OAuth settings\")\n",
    "access_token = \"1126320149202472963-WFvSDnYa1eL6osrEorVskuxFLAsoZB\"\n",
    "access_token_secret = \"tYUy2yIjqPGtBYPxVUGwNl71rnFqErsMXCM05nAFphvUf\"\n",
    "consumer_key = \"svHJE3Vx9Yo6IIxGRoCtZwkK5\"\n",
    "consumer_secret = \"pmMPOP6ccTWxl675HCprsTyKnyQzWK6Vz9ZupnBSTp2uehVH73\"\n",
    "\n",
    "auth = tw.OAuthHandler(consumer_key, consumer_secret)\n",
    "auth.set_access_token(access_token, access_token_secret)\n",
    "api = tw.API(auth, wait_on_rate_limit=True)\n",
    "\n",
    "search_words = \"#khaleesi\"\n",
    "date_since = \"2019-05-01\"\n",
    "\n",
    "\n",
    "tweets = tw.Cursor(api.search,\n",
    "            q=search_words,\n",
    "            lang=\"en\",\n",
    "            since=date_since, encode=\"utf-8\").items(10)\n",
    "tweet_list = []\n",
    "for tweet in tweets:\n",
    "    #weet_list.append(tweet.text)\n",
    "    #response = requests.get(tweet).json()\n",
    "    print(tweet.text)"
   ]
  },
  {
   "cell_type": "code",
   "execution_count": 2,
   "metadata": {},
   "outputs": [
    {
     "data": {
      "text/plain": [
       "[]"
      ]
     },
     "execution_count": 2,
     "metadata": {},
     "output_type": "execute_result"
    }
   ],
   "source": [
    "tweet_list "
   ]
  },
  {
   "cell_type": "code",
   "execution_count": null,
   "metadata": {},
   "outputs": [],
   "source": [
    "tweet_df = pd.DataFrame({\n",
    "   \"Text\": tweets_list\n",
    "})\n",
    "tweet_df"
   ]
  }
 ],
 "metadata": {
  "kernelspec": {
   "display_name": "Python 3",
   "language": "python",
   "name": "python3"
  },
  "language_info": {
   "codemirror_mode": {
    "name": "ipython",
    "version": 3
   },
   "file_extension": ".py",
   "mimetype": "text/x-python",
   "name": "python",
   "nbconvert_exporter": "python",
   "pygments_lexer": "ipython3",
   "version": "3.7.0"
  }
 },
 "nbformat": 4,
 "nbformat_minor": 2
}
