{
 "cells": [
  {
   "cell_type": "code",
   "execution_count": 1,
   "metadata": {},
   "outputs": [],
   "source": [
    "from tweepy.streaming import StreamListener\n",
    "from tweepy import OAuthHandler\n",
    "from textblob import TextBlob\n",
    "from tweepy import Stream\n",
    "from bs4 import BeautifulSoup\n",
    "import requests\n",
    "import pprint\n",
    "import json\n",
    "import pandas as pd\n",
    "import pymongo\n",
    "from sqlalchemy import func"
   ]
  },
  {
   "cell_type": "code",
   "execution_count": 3,
   "metadata": {},
   "outputs": [],
   "source": [
    "conn = 'mongodb://localhost:27017'\n",
    "client = pymongo.MongoClient(conn)\n",
    "# Define the 'classDB' database in Mongo\n",
    "db = client.projDB\n",
    "tweet = db.tweet_hashtags1.find()"
   ]
  },
  {
   "cell_type": "code",
   "execution_count": 4,
   "metadata": {},
   "outputs": [],
   "source": [
    "df = pd.DataFrame(columns=[\"character\", \"id\", \"text\", \"language\",\"created\", \"place\", \"source\", \"sentiment\"])\n",
    "df1 = df"
   ]
  },
  {
   "cell_type": "code",
   "execution_count": 5,
   "metadata": {},
   "outputs": [
    {
     "name": "stdout",
     "output_type": "stream",
     "text": [
      "GOT, 1127722404313206784, Arya said \" 'No one' will be satisfied\" ..... So she will be satisfied 🤔 aka she ago kill Cersei?, en, Sun May 12 23:49:07 +0000 2019, {'id': 'd66ca907ceb62690', 'url': 'https://api.twitter.com/1.1/geo/id/d66ca907ceb62690.json', 'place_type': 'country', 'name': 'Jamaica', 'full_name': 'Jamaica', 'country_code': 'JM', 'country': 'Jamaica', 'bounding_box': {'type': 'Polygon', 'coordinates': [[[-78.368878, 17.705786], [-78.368878, 18.525029], [-76.183028, 18.525029], [-76.183028, 17.705786]]]}, 'attributes': {}}, <a href=\"http://twitter.com/download/android\" rel=\"nofollow\">Twitter for Android</a>, ['Pos']\n",
      "got, 1127722501369413634, #got #gameofthrones #imwithher #allhailthequeen #winning #cerseilannister #instathrones #TeamCersei #hbo… https://t.co/xlRAh9PDvz, en, Sun May 12 23:49:31 +0000 2019, {'id': '01a9a39529b27f36', 'url': 'https://api.twitter.com/1.1/geo/id/01a9a39529b27f36.json', 'place_type': 'city', 'name': 'Manhattan', 'full_name': 'Manhattan, NY', 'country_code': 'US', 'country': 'United States', 'bounding_box': {'type': 'Polygon', 'coordinates': [[[-74.026675, 40.683935], [-74.026675, 40.877483], [-73.910408, 40.877483], [-73.910408, 40.683935]]]}, 'attributes': {}}, <a href=\"http://instagram.com\" rel=\"nofollow\">Instagram</a>, ['Pos']\n",
      "GameOfThrones, 1127722521082695680, Tormund: “What kind of person jumps on a dragon and fights? A madman, or a king!!!!”\n",
      "Tormund told us the ending y’a… https://t.co/woEp4eceON, en, Sun May 12 23:49:35 +0000 2019, {'id': '1d9a5370a355ab0c', 'url': 'https://api.twitter.com/1.1/geo/id/1d9a5370a355ab0c.json', 'place_type': 'city', 'name': 'Chicago', 'full_name': 'Chicago, IL', 'country_code': 'US', 'country': 'United States', 'bounding_box': {'type': 'Polygon', 'coordinates': [[[-87.940033, 41.644102], [-87.940033, 42.023067], [-87.523993, 42.023067], [-87.523993, 41.644102]]]}, 'attributes': {}}, <a href=\"http://twitter.com/download/iphone\" rel=\"nofollow\">Twitter for iPhone</a>, ['Pos']\n",
      "YoureWatchHasEnded, 1127722629509656576, Two episodes left!  Who will die tonight?  #YoureWatchHasEnded #GoT #GoTDeathWatch #Dracarys https://t.co/n0pX7N7Nxq, en, Sun May 12 23:50:01 +0000 2019, {'id': '4de072969805ac41', 'url': 'https://api.twitter.com/1.1/geo/id/4de072969805ac41.json', 'place_type': 'city', 'name': 'West Palm Beach', 'full_name': 'West Palm Beach, FL', 'country_code': 'US', 'country': 'United States', 'bounding_box': {'type': 'Polygon', 'coordinates': [[[-80.2006, 26.644671], [-80.2006, 26.799121], [-80.044639, 26.799121], [-80.044639, 26.644671]]]}, 'attributes': {}}, <a href=\"http://twitter.com/download/iphone\" rel=\"nofollow\">Twitter for iPhone</a>, ['Neu']\n",
      "GameOfThrones, 1127722665630769152, i will only have one of these two reactions after tonight's episode \n",
      "#GameOfThrones https://t.co/gCtlJ0pUj8, en, Sun May 12 23:50:10 +0000 2019, {'id': '5c2b5e46ab891f07', 'url': 'https://api.twitter.com/1.1/geo/id/5c2b5e46ab891f07.json', 'place_type': 'city', 'name': 'Las Vegas', 'full_name': 'Las Vegas, NV', 'country_code': 'US', 'country': 'United States', 'bounding_box': {'type': 'Polygon', 'coordinates': [[[-115.384091, 36.129459], [-115.384091, 36.336371], [-115.062159, 36.336371], [-115.062159, 36.129459]]]}, 'attributes': {}}, <a href=\"http://twitter.com/download/android\" rel=\"nofollow\">Twitter for Android</a>, ['Neu']\n",
      "GameofThrones, 1127722673923031040, This is good. https://t.co/p7qr7LfLgJ, en, Sun May 12 23:50:12 +0000 2019, {'id': '67d92742f1ebf307', 'url': 'https://api.twitter.com/1.1/geo/id/67d92742f1ebf307.json', 'place_type': 'admin', 'name': 'Michigan', 'full_name': 'Michigan, USA', 'country_code': 'US', 'country': 'United States', 'bounding_box': {'type': 'Polygon', 'coordinates': [[[-90.418108, 41.696088], [-90.418108, 48.306272], [-82.122971, 48.306272], [-82.122971, 41.696088]]]}, 'attributes': {}}, <a href=\"https://tapbots.com/software/tweetbot/mac\" rel=\"nofollow\">Tweetbot for Mac</a>, ['Pos']\n",
      "gameofthrones, 1127722707217539074, Also, Daenerys gave away that she is going to be the Mad Queen, en, Sun May 12 23:50:20 +0000 2019, {'id': 'd66ca907ceb62690', 'url': 'https://api.twitter.com/1.1/geo/id/d66ca907ceb62690.json', 'place_type': 'country', 'name': 'Jamaica', 'full_name': 'Jamaica', 'country_code': 'JM', 'country': 'Jamaica', 'bounding_box': {'type': 'Polygon', 'coordinates': [[[-78.368878, 17.705786], [-78.368878, 18.525029], [-76.183028, 18.525029], [-76.183028, 17.705786]]]}, 'attributes': {}}, <a href=\"http://twitter.com/download/android\" rel=\"nofollow\">Twitter for Android</a>, ['Neg']\n",
      "GoT, 1127722726129586176, Dracarys.\n",
      "\n",
      " #GoT #GamerThrones #Sweepstakes https://t.co/QJ8i0jrdIa, en, Sun May 12 23:50:24 +0000 2019, {'id': '3993cb03878c3517', 'url': 'https://api.twitter.com/1.1/geo/id/3993cb03878c3517.json', 'place_type': 'city', 'name': 'Texcoco', 'full_name': 'Texcoco, México', 'country_code': 'MX', 'country': 'México', 'bounding_box': {'type': 'Polygon', 'coordinates': [[[-98.940638, 19.375099], [-98.940638, 19.561992], [-98.634232, 19.561992], [-98.634232, 19.375099]]]}, 'attributes': {}}, <a href=\"http://twitter.com/download/android\" rel=\"nofollow\">Twitter for Android</a>, ['Neu']\n",
      "GameOfThrones, 1127722757700104197, “Dracarys” is the new “burn them all” #GameOfThrones, en, Sun May 12 23:50:32 +0000 2019, {'id': '8396fe91f4ae1005', 'url': 'https://api.twitter.com/1.1/geo/id/8396fe91f4ae1005.json', 'place_type': 'city', 'name': 'Pouso Alegre', 'full_name': 'Pouso Alegre, Brasil', 'country_code': 'BR', 'country': 'Brasil', 'bounding_box': {'type': 'Polygon', 'coordinates': [[[-46.064763, -22.415281], [-46.064763, -22.110648], [-45.817052, -22.110648], [-45.817052, -22.415281]]]}, 'attributes': {}}, <a href=\"http://twitter.com/download/iphone\" rel=\"nofollow\">Twitter for iPhone</a>, ['Pos']\n",
      "GoT, 1127722792634454018, Mom is conflating Star Wars, Twilight, and Game of Thrones. Just said “Don’t tell me Jon Snow turned into a Skywalk… https://t.co/V3iUuiZuHg, en, Sun May 12 23:50:40 +0000 2019, {'id': '789a596e07b40baf', 'url': 'https://api.twitter.com/1.1/geo/id/789a596e07b40baf.json', 'place_type': 'city', 'name': 'Summit', 'full_name': 'Summit, NJ', 'country_code': 'US', 'country': 'United States', 'bounding_box': {'type': 'Polygon', 'coordinates': [[[-74.402023, 40.685322], [-74.402023, 40.739209], [-74.330621, 40.739209], [-74.330621, 40.685322]]]}, 'attributes': {}}, <a href=\"http://twitter.com/download/iphone\" rel=\"nofollow\">Twitter for iPhone</a>, ['Neg']\n",
      "GoT, 1127722805959720961, @CJMcCollum so happy Houston choked so you could play early and get home in time for the east coast feed of #GoT… https://t.co/muLBpEg84j, en, Sun May 12 23:50:43 +0000 2019, {'id': '34f07ab614b87349', 'url': 'https://api.twitter.com/1.1/geo/id/34f07ab614b87349.json', 'place_type': 'city', 'name': 'Cedar Mill', 'full_name': 'Cedar Mill, OR', 'country_code': 'US', 'country': 'United States', 'bounding_box': {'type': 'Polygon', 'coordinates': [[[-122.828036, 45.517386], [-122.828036, 45.548866], [-122.763528, 45.548866], [-122.763528, 45.517386]]]}, 'attributes': {}}, <a href=\"http://twitter.com/download/android\" rel=\"nofollow\">Twitter for Android</a>, ['Pos']\n",
      "GameofThrones, 1127722860993056768, Tis time for #GameofThrones ., en, Sun May 12 23:50:56 +0000 2019, {'id': '72ac303c0e608f71', 'url': 'https://api.twitter.com/1.1/geo/id/72ac303c0e608f71.json', 'place_type': 'city', 'name': 'St George', 'full_name': 'St George, UT', 'country_code': 'US', 'country': 'United States', 'bounding_box': {'type': 'Polygon', 'coordinates': [[[-113.641805, 37.021646], [-113.641805, 37.149517], [-113.513726, 37.149517], [-113.513726, 37.021646]]]}, 'attributes': {}}, <a href=\"http://twitter.com/download/android\" rel=\"nofollow\">Twitter for Android</a>, ['Neu']\n",
      "GameofThrones, 1127722902655102976, #GameofThrones day! Am excited and terrified at the same time! Please don't spoil #Dany's character anymore 😔, en, Sun May 12 23:51:06 +0000 2019, {'id': '300bcc6e23a88361', 'url': 'https://api.twitter.com/1.1/geo/id/300bcc6e23a88361.json', 'place_type': 'city', 'name': 'Seattle', 'full_name': 'Seattle, WA', 'country_code': 'US', 'country': 'United States', 'bounding_box': {'type': 'Polygon', 'coordinates': [[[-122.436232, 47.495315], [-122.436232, 47.734319], [-122.224973, 47.734319], [-122.224973, 47.495315]]]}, 'attributes': {}}, <a href=\"http://twitter.com/download/iphone\" rel=\"nofollow\">Twitter for iPhone</a>, ['Pos']\n",
      "TheLastWar, 1127722906715328512, I'm not ready😪☹, en, Sun May 12 23:51:07 +0000 2019, {'id': '9d8ae4b0fac2036a', 'url': 'https://api.twitter.com/1.1/geo/id/9d8ae4b0fac2036a.json', 'place_type': 'country', 'name': 'Panamá', 'full_name': 'Panamá', 'country_code': 'PA', 'country': 'Panamá', 'bounding_box': {'type': 'Polygon', 'coordinates': [[[-83.051445, 7.20386], [-83.051445, 9.639486], [-77.13939, 9.639486], [-77.13939, 7.20386]]]}, 'attributes': {}}, <a href=\"http://twitter.com/download/android\" rel=\"nofollow\">Twitter for Android</a>, ['Neu']\n"
     ]
    },
    {
     "name": "stdout",
     "output_type": "stream",
     "text": [
      "GameofThrones, 1127722984716816384, About an hour to go #GameofThrones \n",
      "I have to wonder... does the war end tonight in quick fashion, similar to Winte… https://t.co/aKSrWcXzGL, en, Sun May 12 23:51:26 +0000 2019, {'id': '43e310950c4d5ee2', 'url': 'https://api.twitter.com/1.1/geo/id/43e310950c4d5ee2.json', 'place_type': 'city', 'name': 'Lincoln', 'full_name': 'Lincoln, New Brunswick', 'country_code': 'CA', 'country': 'Canada', 'bounding_box': {'type': 'Polygon', 'coordinates': [[[-66.715037, 45.735252], [-66.715037, 45.913157], [-66.473509, 45.913157], [-66.473509, 45.735252]]]}, 'attributes': {}}, <a href=\"http://twitter.com/#!/download/ipad\" rel=\"nofollow\">Twitter for iPad</a>, ['Pos']\n",
      "ForTheThrone, 1127723207249858566, DRACARYS!!!! #ForTheThrone, en, Sun May 12 23:52:19 +0000 2019, {'id': '35e1542602b65f19', 'url': 'https://api.twitter.com/1.1/geo/id/35e1542602b65f19.json', 'place_type': 'city', 'name': 'Santo André', 'full_name': 'Santo André, Brasil', 'country_code': 'BR', 'country': 'Brazil', 'bounding_box': {'type': 'Polygon', 'coordinates': [[[-46.567276, -23.815924], [-46.567276, -23.605615], [-46.278106, -23.605615], [-46.278106, -23.815924]]]}, 'attributes': {}}, <a href=\"http://twitter.com/download/iphone\" rel=\"nofollow\">Twitter for iPhone</a>, ['Neu']\n",
      "GameOfThrones, 1127723351185731585, ⁉️Will Cersei die tonight or next Sunday during the series finally!⁉️  \n",
      "\n",
      "Vote below and even leave a comment of you… https://t.co/p36GaLvzMU, en, Sun May 12 23:52:53 +0000 2019, {'id': '7f9b118262759184', 'url': 'https://api.twitter.com/1.1/geo/id/7f9b118262759184.json', 'place_type': 'city', 'name': 'Millertown', 'full_name': 'Millertown, Newfoundland and Labrador', 'country_code': 'CA', 'country': 'Canada', 'bounding_box': {'type': 'Polygon', 'coordinates': [[[-56.551597, 48.803243], [-56.551597, 48.822863], [-56.517775, 48.822863], [-56.517775, 48.803243]]]}, 'attributes': {}}, <a href=\"http://twitter.com/download/iphone\" rel=\"nofollow\">Twitter for iPhone</a>, ['Neu']\n",
      "GameOfThrones, 1127723431737344000, There’s a very high possibility that Cleganebowl will happen on tonight’s episode. \n",
      "\n",
      "Get hyped. \n",
      "#GameOfThrones, en, Sun May 12 23:53:12 +0000 2019, {'id': 'e0f46cd26fe3d713', 'url': 'https://api.twitter.com/1.1/geo/id/e0f46cd26fe3d713.json', 'place_type': 'country', 'name': 'Antigua and Barbuda', 'full_name': 'Antigua and Barbuda', 'country_code': 'AG', 'country': 'Antigua and Barbuda', 'bounding_box': {'type': 'Polygon', 'coordinates': [[[-62.348502, 16.932155], [-62.348502, 17.729448], [-61.656953, 17.729448], [-61.656953, 16.932155]]]}, 'attributes': {}}, <a href=\"http://twitter.com/download/iphone\" rel=\"nofollow\">Twitter for iPhone</a>, ['Pos']\n",
      "Sansa, 1127723510397394944, Let it breathe #Sansa to Olenna. #DemThrones #GameOfThrones, en, Sun May 12 23:53:31 +0000 2019, {'id': 'e4a0d228eb6be76b', 'url': 'https://api.twitter.com/1.1/geo/id/e4a0d228eb6be76b.json', 'place_type': 'city', 'name': 'Philadelphia', 'full_name': 'Philadelphia, PA', 'country_code': 'US', 'country': 'United States', 'bounding_box': {'type': 'Polygon', 'coordinates': [[[-75.280284, 39.871811], [-75.280284, 40.13792], [-74.955712, 40.13792], [-74.955712, 39.871811]]]}, 'attributes': {}}, <a href=\"http://twitter.com/download/iphone\" rel=\"nofollow\">Twitter for iPhone</a>, ['Neu']\n",
      "got, 1127723534434873344, Pre-gaming for #got tonight https://t.co/hHqVmamS3j, en, Sun May 12 23:53:37 +0000 2019, {'id': '01e0b1c656c5070f', 'url': 'https://api.twitter.com/1.1/geo/id/01e0b1c656c5070f.json', 'place_type': 'city', 'name': 'Iowa City', 'full_name': 'Iowa City, IA', 'country_code': 'US', 'country': 'United States', 'bounding_box': {'type': 'Polygon', 'coordinates': [[[-91.611057, 41.599181], [-91.611057, 41.695526], [-91.463067, 41.695526], [-91.463067, 41.599181]]]}, 'attributes': {}}, <a href=\"http://twitter.com/download/android\" rel=\"nofollow\">Twitter for Android</a>, ['Neu']\n",
      "Cersei, 1127723537802899467, The baddest bihhs stare down #Cersei and #Daenerys   #GameofThrones https://t.co/nBRuQirSjP, en, Sun May 12 23:53:38 +0000 2019, {'id': 'd6819fe60643ebc1', 'url': 'https://api.twitter.com/1.1/geo/id/d6819fe60643ebc1.json', 'place_type': 'city', 'name': 'Alexandria', 'full_name': 'Alexandria, VA', 'country_code': 'US', 'country': 'United States', 'bounding_box': {'type': 'Polygon', 'coordinates': [[[-77.144435, 38.789907], [-77.144435, 38.844853], [-77.037304, 38.844853], [-77.037304, 38.789907]]]}, 'attributes': {}}, <a href=\"http://twitter.com/download/iphone\" rel=\"nofollow\">Twitter for iPhone</a>, ['Neg']\n",
      "GameOfThrones, 1127723557654548480, As if @MittRomney wasn’t already perfect, he outdoes himself on a #GameOfThrones themed #MothersDay gift @rjbeal23, en, Sun May 12 23:53:42 +0000 2019, {'id': '2cb954ccdc0dba5f', 'url': 'https://api.twitter.com/1.1/geo/id/2cb954ccdc0dba5f.json', 'place_type': 'city', 'name': 'Dublin', 'full_name': 'Dublin, OH', 'country_code': 'US', 'country': 'United States', 'bounding_box': {'type': 'Polygon', 'coordinates': [[[-83.18921, 40.067746], [-83.18921, 40.182801], [-83.089352, 40.182801], [-83.089352, 40.067746]]]}, 'attributes': {}}, <a href=\"http://twitter.com/download/iphone\" rel=\"nofollow\">Twitter for iPhone</a>, ['Pos']\n",
      "GoT, 1127723558246014978, #GoT depression is starting. Please don’t end. Also, please make Dany good and not mad in honor of #MothersDay 🙏, en, Sun May 12 23:53:43 +0000 2019, {'id': '01a9a39529b27f36', 'url': 'https://api.twitter.com/1.1/geo/id/01a9a39529b27f36.json', 'place_type': 'city', 'name': 'Manhattan', 'full_name': 'Manhattan, NY', 'country_code': 'US', 'country': 'United States', 'bounding_box': {'type': 'Polygon', 'coordinates': [[[-74.026675, 40.683935], [-74.026675, 40.877483], [-73.910408, 40.877483], [-73.910408, 40.683935]]]}, 'attributes': {}}, <a href=\"http://twitter.com/download/iphone\" rel=\"nofollow\">Twitter for iPhone</a>, ['Pos']\n",
      "GOT, 1127723653838376960, I’m honestly nervous about #GOT tonight, en, Sun May 12 23:54:05 +0000 2019, {'id': '00820730610c5d6e', 'url': 'https://api.twitter.com/1.1/geo/id/00820730610c5d6e.json', 'place_type': 'city', 'name': 'Barksdale', 'full_name': 'Barksdale, MD', 'country_code': 'US', 'country': 'United States', 'bounding_box': {'type': 'Polygon', 'coordinates': [[[-75.817692, 39.65368], [-75.817692, 39.672505], [-75.788559, 39.672505], [-75.788559, 39.65368]]]}, 'attributes': {}}, <a href=\"http://twitter.com/download/iphone\" rel=\"nofollow\">Twitter for iPhone</a>, ['Pos']\n",
      "GameOfThrones, 1127723757475368960, Almost an hr left until #GameOfThrones, en, Sun May 12 23:54:30 +0000 2019, {'id': 'fb7c1db180c09183', 'url': 'https://api.twitter.com/1.1/geo/id/fb7c1db180c09183.json', 'place_type': 'city', 'name': 'Harrisonburg', 'full_name': 'Harrisonburg, VA', 'country_code': 'US', 'country': 'United States', 'bounding_box': {'type': 'Polygon', 'coordinates': [[[-78.918345, 38.387443], [-78.918345, 38.489169], [-78.824223, 38.489169], [-78.824223, 38.387443]]]}, 'attributes': {}}, <a href=\"http://twitter.com/download/android\" rel=\"nofollow\">Twitter for Android</a>, ['Neu']\n",
      "gameofthrones, 1127723778849615874, Kinda fitting we're going to see Cersei and/or Dany die on Mother's Day. #gameofthrones, en, Sun May 12 23:54:35 +0000 2019, {'id': '2d83c71ce16cd187', 'url': 'https://api.twitter.com/1.1/geo/id/2d83c71ce16cd187.json', 'place_type': 'admin', 'name': 'West Virginia', 'full_name': 'West Virginia, USA', 'country_code': 'US', 'country': 'United States', 'bounding_box': {'type': 'Polygon', 'coordinates': [[[-82.644739, 37.201483], [-82.644739, 40.638802], [-77.71893, 40.638802], [-77.71893, 37.201483]]]}, 'attributes': {}}, <a href=\"http://twitter.com/download/android\" rel=\"nofollow\">Twitter for Android</a>, ['Pos']\n",
      "GoT, 1127723779851997185, Game of Thrones time ...\n",
      "\n",
      "* Which Lannister will die first?\n",
      "\n",
      "Jaime -150\n",
      "Cersei +130\n",
      "Tyrion +500\n",
      "\n",
      "#GoT \n",
      "\n",
      " https://t.co/60V8Y0BK9W, en, Sun May 12 23:54:35 +0000 2019, {'id': 'c1b1affb52611339', 'url': 'https://api.twitter.com/1.1/geo/id/c1b1affb52611339.json', 'place_type': 'city', 'name': 'Pelican Bay', 'full_name': 'Pelican Bay, FL', 'country_code': 'US', 'country': 'United States', 'bounding_box': {'type': 'Polygon', 'coordinates': [[[-81.823839, 26.210749], [-81.823839, 26.253974], [-81.800535, 26.253974], [-81.800535, 26.210749]]]}, 'attributes': {}}, <a href=\"http://twitter.com/download/iphone\" rel=\"nofollow\">Twitter for iPhone</a>, ['Neg']\n",
      "TheLastWar, 1127723815411302400, y’all, i can’t believe we just have 1 more episode after tonight. my heart isn’t ready. 😭💔 #TheLastWar #GOT… https://t.co/OH6icFyiGo, en, Sun May 12 23:54:44 +0000 2019, {'id': '288de3df481163e8', 'url': 'https://api.twitter.com/1.1/geo/id/288de3df481163e8.json', 'place_type': 'admin', 'name': 'Alabama', 'full_name': 'Alabama, USA', 'country_code': 'US', 'country': 'United States', 'bounding_box': {'type': 'Polygon', 'coordinates': [[[-88.473228, 30.144425], [-88.473228, 35.008029], [-84.888247, 35.008029], [-84.888247, 30.144425]]]}, 'attributes': {}}, <a href=\"http://twitter.com/download/iphone\" rel=\"nofollow\">Twitter for iPhone</a>, ['Pos']\n",
      "GameofThrones, 1127723834084401153, Game of BONES??? 😱\n",
      "\n",
      "You guys, it's #GameofThrones....\n",
      "@bradleytraynor @mytalkcolleen @lexandthecities… https://t.co/PnWYuMocY2, en, Sun May 12 23:54:48 +0000 2019, {'id': '8e9665cec9370f0f', 'url': 'https://api.twitter.com/1.1/geo/id/8e9665cec9370f0f.json', 'place_type': 'city', 'name': 'Minneapolis', 'full_name': 'Minneapolis, MN', 'country_code': 'US', 'country': 'United States', 'bounding_box': {'type': 'Polygon', 'coordinates': [[[-93.329515, 44.889964], [-93.329515, 45.051257], [-93.194578, 45.051257], [-93.194578, 44.889964]]]}, 'attributes': {}}, <a href=\"http://twitter.com/download/iphone\" rel=\"nofollow\">Twitter for iPhone</a>, ['Neg']\n",
      "GoT, 1127723848152096768, Hound v Mountain... who you #GoT?, en, Sun May 12 23:54:52 +0000 2019, {'id': '5c002c164438e699', 'url': 'https://api.twitter.com/1.1/geo/id/5c002c164438e699.json', 'place_type': 'city', 'name': 'Buford', 'full_name': 'Buford, GA', 'country_code': 'US', 'country': 'United States', 'bounding_box': {'type': 'Polygon', 'coordinates': [[[-84.051863, 34.067677], [-84.051863, 34.168489], [-83.941599, 34.168489], [-83.941599, 34.067677]]]}, 'attributes': {}}, <a href=\"http://twitter.com/download/iphone\" rel=\"nofollow\">Twitter for iPhone</a>, ['Neu']\n"
     ]
    },
    {
     "name": "stdout",
     "output_type": "stream",
     "text": [
      "GameofThrones, 1127723923246915585, Currently wondering if @CJMcCollum is taking advantage of having the early game today by watching #GameofThrones tonight., en, Sun May 12 23:55:10 +0000 2019, {'id': 'de599025180e2ee7', 'url': 'https://api.twitter.com/1.1/geo/id/de599025180e2ee7.json', 'place_type': 'admin', 'name': 'Ohio', 'full_name': 'Ohio, USA', 'country_code': 'US', 'country': 'United States', 'bounding_box': {'type': 'Polygon', 'coordinates': [[[-84.820309, 38.403186], [-84.820309, 42.327133], [-80.518626, 42.327133], [-80.518626, 38.403186]]]}, 'attributes': {}}, <a href=\"http://twitter.com/download/iphone\" rel=\"nofollow\">Twitter for iPhone</a>, ['Neg']\n",
      "GoT, 1127723972433469441, Ok, so do I or don’t I want to open a bottle of wine for tonight’s #GoT? \n",
      "\n",
      "On one hand, I’ve been drinking a lot th… https://t.co/dcxjoJABI7, en, Sun May 12 23:55:21 +0000 2019, {'id': '6afb88feadd10a84', 'url': 'https://api.twitter.com/1.1/geo/id/6afb88feadd10a84.json', 'place_type': 'city', 'name': 'Phoenixville', 'full_name': 'Phoenixville, PA', 'country_code': 'US', 'country': 'United States', 'bounding_box': {'type': 'Polygon', 'coordinates': [[[-75.54724, 40.116932], [-75.54724, 40.159469], [-75.499703, 40.159469], [-75.499703, 40.116932]]]}, 'attributes': {}}, <a href=\"http://twitter.com/download/iphone\" rel=\"nofollow\">Twitter for iPhone</a>, ['Pos']\n",
      "MothersDay, 1127723974933110784, Happy #MothersDay.\n",
      "I hope your mom makes out better than this one on #GameofThrones over the next hour. https://t.co/9yu3jaV6ef, en, Sun May 12 23:55:22 +0000 2019, {'id': '53504716d445dcad', 'url': 'https://api.twitter.com/1.1/geo/id/53504716d445dcad.json', 'place_type': 'city', 'name': 'Calgary', 'full_name': 'Calgary, Alberta', 'country_code': 'CA', 'country': 'Canada', 'bounding_box': {'type': 'Polygon', 'coordinates': [[[-114.316038, 50.84278], [-114.316038, 51.212548], [-113.859664, 51.212548], [-113.859664, 50.84278]]]}, 'attributes': {}}, <a href=\"http://twitter.com/download/iphone\" rel=\"nofollow\">Twitter for iPhone</a>, ['Pos']\n",
      "GameofThrones, 1127723983275560960, #GameofThrones tonight 🔥, en, Sun May 12 23:55:24 +0000 2019, {'id': '002891d33ed032d3', 'url': 'https://api.twitter.com/1.1/geo/id/002891d33ed032d3.json', 'place_type': 'city', 'name': 'Darwin', 'full_name': 'Darwin, Northern Territory', 'country_code': 'AU', 'country': 'Australia', 'bounding_box': {'type': 'Polygon', 'coordinates': [[[130.815117, -12.521742], [130.815117, -12.33006], [131.0515, -12.33006], [131.0515, -12.521742]]]}, 'attributes': {}}, <a href=\"http://twitter.com/download/iphone\" rel=\"nofollow\">Twitter for iPhone</a>, ['Neu']\n",
      "GOT, 1127724011620786176, Can it be 6pm already! I’m so anxious !  #GOT, en, Sun May 12 23:55:31 +0000 2019, {'id': 'cf2d9d01f16e9bd4', 'url': 'https://api.twitter.com/1.1/geo/id/cf2d9d01f16e9bd4.json', 'place_type': 'city', 'name': 'Chino', 'full_name': 'Chino, CA', 'country_code': 'US', 'country': 'United States', 'bounding_box': {'type': 'Polygon', 'coordinates': [[[-117.735657, 33.926295], [-117.735657, 34.04837], [-117.610852, 34.04837], [-117.610852, 33.926295]]]}, 'attributes': {}}, <a href=\"http://twitter.com/download/iphone\" rel=\"nofollow\">Twitter for iPhone</a>, ['Neg']\n"
     ]
    }
   ],
   "source": [
    "# count = 0\n",
    "for each_tweet in tweet:\n",
    "#     print(each_tweet)\n",
    "#     print(\"\")\n",
    "#     print (each_tweet[\"id\"])\n",
    "#     print(each_tweet[\"text\"])\n",
    "    analysis = TextBlob(each_tweet[\"text\"])\n",
    "#     print(analysis.sentiment)\n",
    "    senti = \"\"\n",
    "    if analysis.sentiment[0]>0:\n",
    "#        print(\"pos\")\n",
    "       senti = \"Pos\"\n",
    "    elif analysis.sentiment[0]<0:\n",
    "#        print(\"neg\")\n",
    "       senti = \"Neg\"\n",
    "    else:\n",
    "#        print(\"neu\")\n",
    "       senti = \"Neu\"\n",
    "    \n",
    "#     name = each_tweet[\"entities\"]\n",
    "#     print(each_tweet[\"entities\"])\n",
    "#     print(\"\")\n",
    "#     print(each_tweet[\"entities\"][\"hashtags\"][0][\"text\"])\n",
    "    if each_tweet[\"entities\"][\"hashtags\"] is None:\n",
    "        char_name = \"\"\n",
    "    else:\n",
    "        if len(each_tweet[\"entities\"][\"hashtags\"]) > 0:\n",
    "            char_name = each_tweet[\"entities\"][\"hashtags\"][0][\"text\"]\n",
    "    \n",
    "#     print(char_name)\n",
    "    try: \n",
    "        df1 = pd.DataFrame({\"character\": char_name, \"id\": each_tweet[\"id\"], \"text\": each_tweet[\"text\"], \"language\": each_tweet[\"language\"], \"created\": each_tweet[\"created\"], \"place\": each_tweet[\"place\"], \"source\": each_tweet[\"source\"], \"sentiment\": [senti]})\n",
    "        df = df.append(df1, ignore_index=True)\n",
    "    except:\n",
    "#         print(each_tweet)\n",
    "        print(f'{char_name}, {each_tweet[\"id\"]}, {each_tweet[\"text\"]}, {each_tweet[\"language\"]}, {each_tweet[\"created\"]}, {each_tweet[\"place\"]}, {each_tweet[\"source\"]}, {[senti]}')\n",
    "#     count += 1\n",
    "#     if count > 100:\n",
    "#         break"
   ]
  },
  {
   "cell_type": "code",
   "execution_count": 6,
   "metadata": {},
   "outputs": [
    {
     "data": {
      "text/plain": [
       "0    RT @FrankCaliendo: Today seems like an appropr...\n",
       "Name: text, dtype: object"
      ]
     },
     "execution_count": 6,
     "metadata": {},
     "output_type": "execute_result"
    }
   ],
   "source": [
    "df1[\"text\"]"
   ]
  },
  {
   "cell_type": "code",
   "execution_count": 7,
   "metadata": {},
   "outputs": [
    {
     "data": {
      "text/plain": [
       "array(['GameofThrones', 'GameOfThrones', 'starbuckscup', 'GOT',\n",
       "       'gameofthrones', 'danaerystargaryen', 'Supergirl', 'got',\n",
       "       'boldprediction', 'digitalminx', 'TheLastWar', 'GoT',\n",
       "       'HappyMothersDay', 'Game7', 'SpiderManFarFromHome', 'Cleganebowl',\n",
       "       'JonSnow', 'CerseiLannister', 'daenerys', 'DemThrones',\n",
       "       'ForTheThrone', 'giveaway', 'OttawaComicCon', 'Got', 'MothersDay',\n",
       "       'GamerThrones', 'DaenerysTargaryen', 'GameofThones',\n",
       "       'GameOfthrones', 'Varys', 'win', 'GAMEOFTHRONES', 'CleganeBowl',\n",
       "       'Gameofthrones', 'SammyCares', 'GameOfTrones', 'TheHound',\n",
       "       'Cersei', 'raptors', 'GamesOfThrones', 'WeAreNigerianCreatives',\n",
       "       'TaylorSwift', 'Endgame', 'SansaStark', 'JaimeLannister', 'tattoo',\n",
       "       'LastWar', 'NotToday', 'SoundCloud', 'Ramadan', 'Halalan2019',\n",
       "       'mothersday', 'MothersDay19', 'TalkTheThrones', 'cersei',\n",
       "       'GٍaِmeofْThroُnes', 'climatechange', 'Philippines',\n",
       "       'BrienneOfTarth', 'DragRace', 'starks', 'Mom', 'Daenerys',\n",
       "       'Dragons', 'CLEGANEBOWL', 'AryaStark', 'mlmbl', 'AllAmerican',\n",
       "       'gameofThrones', 'GoTS8', 'blackops4', 'gaming', 'Sansa',\n",
       "       'Westeros', 'DaenerysDeservesBetter', 'NBAPlayoffs',\n",
       "       'CoffeeCupGate', 'Funkopop', 'mentalhealthawarenessmonth',\n",
       "       'IronThrone', 'NBA', 'Dracarys', 'followhelp', 'ExcitedAF',\n",
       "       'review', 'humorous', 'TheGoldenCompany', 'sandor',\n",
       "       'RedemptionB4Dragons', 'TeamTargaryen', 'Jaimelannister',\n",
       "       'GLAADawards', 'TheMotherofDragons', 'EconTwitter', 'TyrionGuinan',\n",
       "       'Missandei', 'GameOfBones', 'Brienne', 'WhoKnows',\n",
       "       'FantasyFootball', 'Jaguar', 'Khaleesi', 'Euron', 'LenaHeadey',\n",
       "       'motherofdragons', 'demthones'], dtype=object)"
      ]
     },
     "execution_count": 7,
     "metadata": {},
     "output_type": "execute_result"
    }
   ],
   "source": [
    "df[\"character\"].unique()"
   ]
  },
  {
   "cell_type": "code",
   "execution_count": null,
   "metadata": {},
   "outputs": [],
   "source": []
  }
 ],
 "metadata": {
  "kernelspec": {
   "display_name": "Python 3",
   "language": "python",
   "name": "python3"
  },
  "language_info": {
   "codemirror_mode": {
    "name": "ipython",
    "version": 3
   },
   "file_extension": ".py",
   "mimetype": "text/x-python",
   "name": "python",
   "nbconvert_exporter": "python",
   "pygments_lexer": "ipython3",
   "version": "3.7.0"
  }
 },
 "nbformat": 4,
 "nbformat_minor": 2
}
