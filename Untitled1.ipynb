{
 "cells": [
  {
   "cell_type": "code",
   "execution_count": 1,
   "metadata": {},
   "outputs": [
    {
     "ename": "ModuleNotFoundError",
     "evalue": "No module named 'unirest'",
     "output_type": "error",
     "traceback": [
      "\u001b[1;31m---------------------------------------------------------------------------\u001b[0m",
      "\u001b[1;31mModuleNotFoundError\u001b[0m                       Traceback (most recent call last)",
      "\u001b[1;32m<ipython-input-1-1345cb6b8599>\u001b[0m in \u001b[0;36m<module>\u001b[1;34m()\u001b[0m\n\u001b[1;32m----> 1\u001b[1;33m \u001b[1;32mimport\u001b[0m \u001b[0munirest\u001b[0m\u001b[1;33m\u001b[0m\u001b[0m\n\u001b[0m",
      "\u001b[1;31mModuleNotFoundError\u001b[0m: No module named 'unirest'"
     ]
    }
   ],
   "source": [
    "import unirest"
   ]
  },
  {
   "cell_type": "code",
   "execution_count": 2,
   "metadata": {},
   "outputs": [
    {
     "ename": "NameError",
     "evalue": "name 'unirest' is not defined",
     "output_type": "error",
     "traceback": [
      "\u001b[1;31m---------------------------------------------------------------------------\u001b[0m",
      "\u001b[1;31mNameError\u001b[0m                                 Traceback (most recent call last)",
      "\u001b[1;32m<ipython-input-2-f067b1e418ee>\u001b[0m in \u001b[0;36m<module>\u001b[1;34m()\u001b[0m\n\u001b[1;32m----> 1\u001b[1;33m response = unirest.post(\"https://japerk-text-processing.p.rapidapi.com/sentiment/\",\n\u001b[0m\u001b[0;32m      2\u001b[0m   headers={\n\u001b[0;32m      3\u001b[0m     \u001b[1;34m\"X-RapidAPI-Host\"\u001b[0m\u001b[1;33m:\u001b[0m \u001b[1;34m\"japerk-text-processing.p.rapidapi.com\"\u001b[0m\u001b[1;33m,\u001b[0m\u001b[1;33m\u001b[0m\u001b[0m\n\u001b[0;32m      4\u001b[0m     \u001b[1;34m\"X-RapidAPI-Key\"\u001b[0m\u001b[1;33m:\u001b[0m \u001b[1;34m\"65f590f3b6msh02d1d4e79ac9c60p19d11fjsn0951e8cd270f\"\u001b[0m\u001b[1;33m,\u001b[0m\u001b[1;33m\u001b[0m\u001b[0m\n\u001b[0;32m      5\u001b[0m     \u001b[1;34m\"Content-Type\"\u001b[0m\u001b[1;33m:\u001b[0m \u001b[1;34m\"application/x-www-form-urlencoded\"\u001b[0m\u001b[1;33m\u001b[0m\u001b[0m\n",
      "\u001b[1;31mNameError\u001b[0m: name 'unirest' is not defined"
     ]
    }
   ],
   "source": [
    "response = unirest.post(\"https://japerk-text-processing.p.rapidapi.com/sentiment/\",\n",
    "  headers={\n",
    "    \"X-RapidAPI-Host\": \"japerk-text-processing.p.rapidapi.com\",\n",
    "    \"X-RapidAPI-Key\": \"65f590f3b6msh02d1d4e79ac9c60p19d11fjsn0951e8cd270f\",\n",
    "    \"Content-Type\": \"application/x-www-form-urlencoded\"\n",
    "  },\n",
    "  params={\n",
    "    \"language\": \"english\",\n",
    "    \"text\": \"great movie\"\n",
    "  }\n",
    ")"
   ]
  }
 ],
 "metadata": {
  "kernelspec": {
   "display_name": "Python 3",
   "language": "python",
   "name": "python3"
  },
  "language_info": {
   "codemirror_mode": {
    "name": "ipython",
    "version": 3
   },
   "file_extension": ".py",
   "mimetype": "text/x-python",
   "name": "python",
   "nbconvert_exporter": "python",
   "pygments_lexer": "ipython3",
   "version": "3.7.0"
  }
 },
 "nbformat": 4,
 "nbformat_minor": 2
}
